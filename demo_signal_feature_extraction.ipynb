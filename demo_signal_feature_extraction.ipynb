{
 "cells": [
  {
   "cell_type": "markdown",
   "source": [
    "# Digital EMG Signal Feature Extraction"
   ],
   "metadata": {
    "collapsed": false
   }
  },
  {
   "cell_type": "markdown",
   "source": [
    "Import packages."
   ],
   "metadata": {
    "collapsed": false
   }
  },
  {
   "cell_type": "code",
   "execution_count": null,
   "outputs": [],
   "source": [
    "import pandas as pd\n",
    "import matplotlib.pyplot as plt\n",
    "plt.style.use('seaborn-whitegrid')\n",
    "import numpy as np\n",
    "from filter import BandpassFilter1D, NotchFilter1D\n",
    "from processing import MeanShift1D, Detrend1D, Resample1D, Normalize1D\n",
    "from segment import Segment1D, Segment2D\n",
    "from visualize import plot_signal1d, plot_signalnd\n",
    "%matplotlib inline"
   ],
   "metadata": {
    "collapsed": false,
    "pycharm": {
     "name": "#%%\n"
    }
   }
  },
  {
   "cell_type": "markdown",
   "source": [
    "EMG signal processing functions"
   ],
   "metadata": {
    "collapsed": false
   }
  },
  {
   "cell_type": "code",
   "execution_count": null,
   "outputs": [],
   "source": [
    "# process signal of each channel\n",
    "def process_signal1d(x, raw_fs=1000, low_fs=1, high_fs=120, notch_fs=60, Q=20, window_size=250, step_size=50, target_fs=512):\n",
    "    \"\"\"\n",
    "    @param x: signal of a single channel\n",
    "    @param raw_fs: original sampling rate\n",
    "    @param low_fs: low cutoff frequency\n",
    "    @param high_fs: high cutoff frequency\n",
    "    @param notch_fs: notch cutoff frequency\n",
    "    @param Q: Q factor\n",
    "    @param window_size: windows size for detrending\n",
    "    @param step_size: step size for detrending\n",
    "    @param target_fs: target sampling rate for resampling step\n",
    "    \"\"\"\n",
    "    # mean-correct signal\n",
    "    x_processed = MeanShift1D.apply(x)\n",
    "    # filtering noise\n",
    "    x_processed = BandpassFilter1D.apply(x_processed, low_fs, high_fs, order=4, fs=raw_fs)\n",
    "    x_processed = NotchFilter1D.apply(x_processed, notch_fs, Q=Q, fs=raw_fs)\n",
    "    # detrend\n",
    "    x_processed = Detrend1D.apply(x_processed, detrend_type='locreg', window_size=window_size, step_size=step_size)\n",
    "    # resample\n",
    "    x_processed = Resample1D.apply(x_processed, raw_fs, target_fs)\n",
    "    # rectify\n",
    "    x_processed = abs(x_processed)\n",
    "    # normalize\n",
    "    x_processed = Normalize1D.apply(x_processed, norm_type='min_max')\n",
    "    return x_processed"
   ],
   "metadata": {
    "collapsed": false,
    "pycharm": {
     "name": "#%%\n"
    }
   }
  },
  {
   "cell_type": "code",
   "execution_count": null,
   "outputs": [],
   "source": [
    "# process multi-channel signal\n",
    "def process_signalnd(x, num_channels, raw_fs=1000, low_fs=1, high_fs=120, notch_fs=60, Q=20, window_size=250, step_size=50, target_fs=512):\n",
    "    \"\"\"\n",
    "    @param x: signal of a single channel\n",
    "    @param raw_fs: original sampling rate\n",
    "    @param low_fs: low cutoff frequency\n",
    "    @param high_fs: high cutoff frequency\n",
    "    @param notch_fs: notch cutoff frequency\n",
    "    @param Q: Q factor\n",
    "    @param window_size: windows size for detrending\n",
    "    @param step_size: step size for detrending\n",
    "    @param target_fs: target sampling rate for resampling step\n",
    "    \"\"\"\n",
    "    x_processed = []\n",
    "    for i in range(num_channels):\n",
    "        channel_processed = process_signal1d(x[:, i], raw_fs, low_fs, high_fs, notch_fs, Q, window_size, step_size, target_fs)\n",
    "        x_processed.append(channel_processed)\n",
    "    # convert emg signal to numpy matrix\n",
    "    x_processed = np.array(x_processed)\n",
    "    return x_processed"
   ],
   "metadata": {
    "collapsed": false,
    "pycharm": {
     "name": "#%%\n"
    }
   }
  },
  {
   "cell_type": "markdown",
   "source": [
    "## EMG Feature Extraction\n",
    "\n",
    "With the aim to facilitate the classification process, the raw signal should be transformed into relevant data structure or feature vector to highlight the important data for pattern recognition. There are three types of features in EMG control system: 1) time domain, 2) frequency domain, 3) time-frequency domain."
   ],
   "metadata": {
    "collapsed": false
   }
  },
  {
   "cell_type": "markdown",
   "source": [
    "### 1. Time Domain Features\n",
    "\n",
    "The time domain features are the most popular in EMG pattern recognition, because they are easy and quick to calculate as well as they do not require transformation. The time domain features usually are computed based on signal amplitude, and resultant values."
   ],
   "metadata": {
    "collapsed": false
   }
  },
  {
   "cell_type": "markdown",
   "source": [
    "##### Signal Power\n",
    "\n",
    "This feature is computed by calculating the summation of absolute values of signal.\n",
    "\n",
    "$$\\text{PD}_{k}=\\sum_{i=1}^{N}{|x_{i}|}$$\n",
    "\n",
    "where $x_{i}$ is value of signal segment $k$, $N$ is the length of the signal segment."
   ],
   "metadata": {
    "collapsed": false
   }
  },
  {
   "cell_type": "code",
   "execution_count": null,
   "outputs": [],
   "source": [],
   "metadata": {
    "collapsed": false,
    "pycharm": {
     "name": "#%%\n"
    }
   }
  },
  {
   "cell_type": "markdown",
   "source": [
    "##### Mean Absolute (MA)\n",
    "\n",
    "This feature is computed by adding the absolute value of all values in a signal segment and dividing it by the length segment.\n",
    "\n",
    "$$\\text{MA}_{k}=\\frac{1}{N}\\sum_{i=1}^{N}{|x_{i}|}$$\n",
    "\n",
    "where $x_{i}$ is value of signal segment $k$, $N$ is the length of the signal segment."
   ],
   "metadata": {
    "collapsed": false
   }
  },
  {
   "cell_type": "code",
   "execution_count": null,
   "outputs": [],
   "source": [],
   "metadata": {
    "collapsed": false,
    "pycharm": {
     "name": "#%%\n"
    }
   }
  },
  {
   "cell_type": "markdown",
   "source": [
    "##### Root Mean Square (RMS)\n",
    "\n",
    "It is modeled as amplitude modulated Gaussian random process whose RMS is related to the constant force and non-fatiguing contraction.\n",
    "\n",
    "$$\\text{RMS}_{k}=\\sqrt{\\frac{1}{N}\\sum_{i=1}^{N}{x_{i}^{2}}}$$\n",
    "\n",
    "where $x_{i}$ is value of signal segment $k$, $N$ is the length of the signal segment."
   ],
   "metadata": {
    "collapsed": false
   }
  },
  {
   "cell_type": "code",
   "execution_count": null,
   "outputs": [],
   "source": [],
   "metadata": {
    "collapsed": false,
    "pycharm": {
     "name": "#%%\n"
    }
   }
  },
  {
   "cell_type": "markdown",
   "source": [
    "##### Variance (VAR)\n",
    "\n",
    "$$\\text{VAR}_{k}=\\sqrt{\\frac{1}{N}\\sum_{i=1}^{N}{(x_{i}-\\bar{x})^{2}}}$$\n",
    "\n",
    "where $x_{i}$ is value of signal segment $k$, \\bar{x} is mean value of signal segment, $N$ is the length of the signal segment."
   ],
   "metadata": {
    "collapsed": false
   }
  },
  {
   "cell_type": "code",
   "execution_count": null,
   "outputs": [],
   "source": [],
   "metadata": {
    "collapsed": false,
    "pycharm": {
     "name": "#%%\n"
    }
   }
  },
  {
   "cell_type": "markdown",
   "source": [
    "##### Waveform Length (WL)\n",
    "\n",
    "It is the cumulative length of the waveform over the segment. The resultant values indicate a measure of waveform amplitude, frequency and duration all within a single parameter.\n",
    "\n",
    "$$\\text{WL}_{k}=\\sum_{i=1}^{N-1}{|x_{i+1}-x_{i}|}$$\n",
    "\n",
    "where $x_{i}$ and $x_{i+1}$ is consecutive values of signal segment $k$, $N$ is the length of the signal segment."
   ],
   "metadata": {
    "collapsed": false
   }
  },
  {
   "cell_type": "code",
   "execution_count": null,
   "outputs": [],
   "source": [],
   "metadata": {
    "collapsed": false,
    "pycharm": {
     "name": "#%%\n"
    }
   }
  },
  {
   "cell_type": "markdown",
   "source": [
    "##### William Amplitude (WAMP)\n",
    "\n",
    "It calculates the number of times that the absolute value of the difference between EMG signal amplitude of two consecutive samples ($x_{i}$ and $x_{i+1}$) exceeds a predetermined threshold $\\epsilon$.\n",
    "\n",
    "$$\\text{WAMP}_{k}=\\sum_{i=1}^{N-1}{f(x_{i}-x_{i+1})}$$\n",
    "\n",
    "$$f(x)=\\begin{cases}{1}&&{x>\\epsilon}\\\\{0}&&{\\text{otherwise}\\end{cases}$$\n",
    "\n",
    "where $x_{i}$ and $x_{i+1}$ is consecutive values of signal segment $k$, $N$ is the length of the signal segment, \\epsilon is threshold value."
   ],
   "metadata": {
    "collapsed": false
   }
  },
  {
   "cell_type": "code",
   "execution_count": null,
   "outputs": [],
   "source": [],
   "metadata": {
    "collapsed": false,
    "pycharm": {
     "name": "#%%\n"
    }
   }
  },
  {
   "cell_type": "markdown",
   "source": [
    "##### Simple Square Integral (SSI).\n",
    "\n",
    "This feature uses the energy of signal.\n",
    "\n",
    "$$\\text{SSI}_{k}=\\sum_{i=1}^{N}{|x_{i}^{2}|}$$\n",
    "\n",
    "where $x_{i}$ is value of signal segment $k$, $N$ is the length of the signal segment."
   ],
   "metadata": {
    "collapsed": false
   }
  },
  {
   "cell_type": "code",
   "execution_count": null,
   "outputs": [],
   "source": [],
   "metadata": {
    "collapsed": false,
    "pycharm": {
     "name": "#%%\n"
    }
   }
  },
  {
   "cell_type": "markdown",
   "source": [
    "### 2. Frequency Domain Features\n",
    "\n",
    "The frequency domain features are based on estimated Power Spectrum Density (PSD) of signal and are computed by periodogram or parametric methods. In comparison with time domain features, frequency domain features requires more computation."
   ],
   "metadata": {
    "collapsed": false
   }
  },
  {
   "cell_type": "markdown",
   "source": [
    "##### Fequency Median (FMD)\n",
    "\n",
    "The frequency median splits the power specturm density into two equal parts.\n",
    "\n",
    "$$\\text{FMD}=\\frac{1}{2}\\sum_{i=1}^{N}{\\text{PSD}_{i}}$$\n",
    "\n",
    "where $N$ is the length of the power spectrum density, and $\\text{PSD}_{i}$ is the $i^{th}$ line of power spectrum density."
   ],
   "metadata": {
    "collapsed": false
   }
  },
  {
   "cell_type": "code",
   "execution_count": null,
   "outputs": [],
   "source": [],
   "metadata": {
    "collapsed": false,
    "pycharm": {
     "name": "#%%\n"
    }
   }
  },
  {
   "cell_type": "markdown",
   "source": [
    "##### Frequency Mean (FMN)\n",
    "\n",
    "$$\\text{FMN}=\\frac{\\sum_{i=1}^{M}{f_{i}\\text{PSD}_{i}}}{\\sum_{i=1}^{M}{\\text{PSD}_{i}}}$$\n",
    "\n",
    "where $N$ is the length of the power spectrum density, and $\\text{PSD}_{i}$ is the $i^{th}$ line of power spectrum density."
   ],
   "metadata": {
    "collapsed": false
   }
  },
  {
   "cell_type": "code",
   "execution_count": null,
   "outputs": [],
   "source": [],
   "metadata": {
    "collapsed": false,
    "pycharm": {
     "name": "#%%\n"
    }
   }
  },
  {
   "cell_type": "markdown",
   "source": [],
   "metadata": {
    "collapsed": false
   }
  }
 ],
 "metadata": {
  "kernelspec": {
   "display_name": "Python 3",
   "language": "python",
   "name": "python3"
  },
  "language_info": {
   "codemirror_mode": {
    "name": "ipython",
    "version": 2
   },
   "file_extension": ".py",
   "mimetype": "text/x-python",
   "name": "python",
   "nbconvert_exporter": "python",
   "pygments_lexer": "ipython2",
   "version": "2.7.6"
  }
 },
 "nbformat": 4,
 "nbformat_minor": 0
}